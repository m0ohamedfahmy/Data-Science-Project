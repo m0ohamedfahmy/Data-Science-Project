{
 "cells": [
  {
   "cell_type": "markdown",
   "id": "a0211fb4",
   "metadata": {},
   "source": [
    "# `LIBRARIES`<a class='e' id='im_li'>"
   ]
  },
  {
   "cell_type": "code",
   "execution_count": 1,
   "id": "7b8f2d6d",
   "metadata": {},
   "outputs": [
    {
     "data": {
      "application/javascript": [
       "\n",
       "            setTimeout(function() {\n",
       "                var nbb_cell_id = 1;\n",
       "                var nbb_unformatted_code = \"# Import the main Libraries\\nimport pandas as pd\\nimport numpy as np\\nimport matplotlib.pyplot as plt\\nimport seaborn as sns\\nimport warnings\\nfrom datasist.structdata import detect_outliers\\n\\nwarnings.filterwarnings(\\\"ignore\\\")\\n%reload_ext nb_black\";\n",
       "                var nbb_formatted_code = \"# Import the main Libraries\\nimport pandas as pd\\nimport numpy as np\\nimport matplotlib.pyplot as plt\\nimport seaborn as sns\\nimport warnings\\nfrom datasist.structdata import detect_outliers\\n\\nwarnings.filterwarnings(\\\"ignore\\\")\\n%reload_ext nb_black\";\n",
       "                var nbb_cells = Jupyter.notebook.get_cells();\n",
       "                for (var i = 0; i < nbb_cells.length; ++i) {\n",
       "                    if (nbb_cells[i].input_prompt_number == nbb_cell_id) {\n",
       "                        if (nbb_cells[i].get_text() == nbb_unformatted_code) {\n",
       "                             nbb_cells[i].set_text(nbb_formatted_code);\n",
       "                        }\n",
       "                        break;\n",
       "                    }\n",
       "                }\n",
       "            }, 500);\n",
       "            "
      ],
      "text/plain": [
       "<IPython.core.display.Javascript object>"
      ]
     },
     "metadata": {},
     "output_type": "display_data"
    }
   ],
   "source": [
    "# Import the main Libraries\n",
    "import pandas as pd\n",
    "import numpy as np\n",
    "import matplotlib.pyplot as plt\n",
    "import seaborn as sns\n",
    "import warnings\n",
    "from datasist.structdata import detect_outliers\n",
    "\n",
    "warnings.filterwarnings(\"ignore\")\n",
    "%reload_ext nb_black"
   ]
  },
  {
   "cell_type": "markdown",
   "id": "b53358fd",
   "metadata": {},
   "source": [
    "# `01_Data_Cleaning`<a class='c' id='cla'>"
   ]
  },
  {
   "cell_type": "code",
   "execution_count": 19,
   "id": "ffa46c00",
   "metadata": {},
   "outputs": [
    {
     "data": {
      "application/javascript": [
       "\n",
       "            setTimeout(function() {\n",
       "                var nbb_cell_id = 19;\n",
       "                var nbb_unformatted_code = \"path_data = r\\\"D:\\\\Software_Courses\\\\Coding\\\\Data Science Project\\\\Supervised\\\\Classification\\\\Obesity based on eating habits and physical conditions\\\\data\\\\raw/ObesityDataSet.csv\\\"\";\n",
       "                var nbb_formatted_code = \"path_data = r\\\"D:\\\\Software_Courses\\\\Coding\\\\Data Science Project\\\\Supervised\\\\Classification\\\\Obesity based on eating habits and physical conditions\\\\data\\\\raw/ObesityDataSet.csv\\\"\";\n",
       "                var nbb_cells = Jupyter.notebook.get_cells();\n",
       "                for (var i = 0; i < nbb_cells.length; ++i) {\n",
       "                    if (nbb_cells[i].input_prompt_number == nbb_cell_id) {\n",
       "                        if (nbb_cells[i].get_text() == nbb_unformatted_code) {\n",
       "                             nbb_cells[i].set_text(nbb_formatted_code);\n",
       "                        }\n",
       "                        break;\n",
       "                    }\n",
       "                }\n",
       "            }, 500);\n",
       "            "
      ],
      "text/plain": [
       "<IPython.core.display.Javascript object>"
      ]
     },
     "metadata": {},
     "output_type": "display_data"
    }
   ],
   "source": [
    "path_data = r\"D:\\Software_Courses\\Coding\\Data Science Project\\Supervised\\Classification\\Obesity based on eating habits and physical conditions\\data\\raw/ObesityDataSet.csv\""
   ]
  },
  {
   "cell_type": "code",
   "execution_count": 20,
   "id": "6a011b2a",
   "metadata": {},
   "outputs": [
    {
     "data": {
      "text/html": [
       "<div>\n",
       "<style scoped>\n",
       "    .dataframe tbody tr th:only-of-type {\n",
       "        vertical-align: middle;\n",
       "    }\n",
       "\n",
       "    .dataframe tbody tr th {\n",
       "        vertical-align: top;\n",
       "    }\n",
       "\n",
       "    .dataframe thead th {\n",
       "        text-align: right;\n",
       "    }\n",
       "</style>\n",
       "<table border=\"1\" class=\"dataframe\">\n",
       "  <thead>\n",
       "    <tr style=\"text-align: right;\">\n",
       "      <th></th>\n",
       "      <th>Gender</th>\n",
       "      <th>Age</th>\n",
       "      <th>Height</th>\n",
       "      <th>Weight</th>\n",
       "      <th>family_history_with_overweight</th>\n",
       "      <th>FAVC</th>\n",
       "      <th>FCVC</th>\n",
       "      <th>NCP</th>\n",
       "      <th>CAEC</th>\n",
       "      <th>SMOKE</th>\n",
       "      <th>CH2O</th>\n",
       "      <th>SCC</th>\n",
       "      <th>FAF</th>\n",
       "      <th>TUE</th>\n",
       "      <th>CALC</th>\n",
       "      <th>MTRANS</th>\n",
       "      <th>NObeyesdad</th>\n",
       "    </tr>\n",
       "  </thead>\n",
       "  <tbody>\n",
       "    <tr>\n",
       "      <th>0</th>\n",
       "      <td>Female</td>\n",
       "      <td>21.0</td>\n",
       "      <td>1.62</td>\n",
       "      <td>64.0</td>\n",
       "      <td>yes</td>\n",
       "      <td>no</td>\n",
       "      <td>2.0</td>\n",
       "      <td>3.0</td>\n",
       "      <td>Sometimes</td>\n",
       "      <td>no</td>\n",
       "      <td>2.0</td>\n",
       "      <td>no</td>\n",
       "      <td>0.0</td>\n",
       "      <td>1.0</td>\n",
       "      <td>no</td>\n",
       "      <td>Public_Transportation</td>\n",
       "      <td>Normal_Weight</td>\n",
       "    </tr>\n",
       "    <tr>\n",
       "      <th>1</th>\n",
       "      <td>Female</td>\n",
       "      <td>21.0</td>\n",
       "      <td>1.52</td>\n",
       "      <td>56.0</td>\n",
       "      <td>yes</td>\n",
       "      <td>no</td>\n",
       "      <td>3.0</td>\n",
       "      <td>3.0</td>\n",
       "      <td>Sometimes</td>\n",
       "      <td>yes</td>\n",
       "      <td>3.0</td>\n",
       "      <td>yes</td>\n",
       "      <td>3.0</td>\n",
       "      <td>0.0</td>\n",
       "      <td>Sometimes</td>\n",
       "      <td>Public_Transportation</td>\n",
       "      <td>Normal_Weight</td>\n",
       "    </tr>\n",
       "    <tr>\n",
       "      <th>2</th>\n",
       "      <td>Male</td>\n",
       "      <td>23.0</td>\n",
       "      <td>1.80</td>\n",
       "      <td>77.0</td>\n",
       "      <td>yes</td>\n",
       "      <td>no</td>\n",
       "      <td>2.0</td>\n",
       "      <td>3.0</td>\n",
       "      <td>Sometimes</td>\n",
       "      <td>no</td>\n",
       "      <td>2.0</td>\n",
       "      <td>no</td>\n",
       "      <td>2.0</td>\n",
       "      <td>1.0</td>\n",
       "      <td>Frequently</td>\n",
       "      <td>Public_Transportation</td>\n",
       "      <td>Normal_Weight</td>\n",
       "    </tr>\n",
       "    <tr>\n",
       "      <th>3</th>\n",
       "      <td>Male</td>\n",
       "      <td>27.0</td>\n",
       "      <td>1.80</td>\n",
       "      <td>87.0</td>\n",
       "      <td>no</td>\n",
       "      <td>no</td>\n",
       "      <td>3.0</td>\n",
       "      <td>3.0</td>\n",
       "      <td>Sometimes</td>\n",
       "      <td>no</td>\n",
       "      <td>2.0</td>\n",
       "      <td>no</td>\n",
       "      <td>2.0</td>\n",
       "      <td>0.0</td>\n",
       "      <td>Frequently</td>\n",
       "      <td>Walking</td>\n",
       "      <td>Overweight_Level_I</td>\n",
       "    </tr>\n",
       "    <tr>\n",
       "      <th>4</th>\n",
       "      <td>Male</td>\n",
       "      <td>22.0</td>\n",
       "      <td>1.78</td>\n",
       "      <td>89.8</td>\n",
       "      <td>no</td>\n",
       "      <td>no</td>\n",
       "      <td>2.0</td>\n",
       "      <td>1.0</td>\n",
       "      <td>Sometimes</td>\n",
       "      <td>no</td>\n",
       "      <td>2.0</td>\n",
       "      <td>no</td>\n",
       "      <td>0.0</td>\n",
       "      <td>0.0</td>\n",
       "      <td>Sometimes</td>\n",
       "      <td>Public_Transportation</td>\n",
       "      <td>Overweight_Level_II</td>\n",
       "    </tr>\n",
       "  </tbody>\n",
       "</table>\n",
       "</div>"
      ],
      "text/plain": [
       "   Gender   Age  Height  Weight family_history_with_overweight FAVC  FCVC   \n",
       "0  Female  21.0    1.62    64.0                            yes   no   2.0  \\\n",
       "1  Female  21.0    1.52    56.0                            yes   no   3.0   \n",
       "2    Male  23.0    1.80    77.0                            yes   no   2.0   \n",
       "3    Male  27.0    1.80    87.0                             no   no   3.0   \n",
       "4    Male  22.0    1.78    89.8                             no   no   2.0   \n",
       "\n",
       "   NCP       CAEC SMOKE  CH2O  SCC  FAF  TUE        CALC   \n",
       "0  3.0  Sometimes    no   2.0   no  0.0  1.0          no  \\\n",
       "1  3.0  Sometimes   yes   3.0  yes  3.0  0.0   Sometimes   \n",
       "2  3.0  Sometimes    no   2.0   no  2.0  1.0  Frequently   \n",
       "3  3.0  Sometimes    no   2.0   no  2.0  0.0  Frequently   \n",
       "4  1.0  Sometimes    no   2.0   no  0.0  0.0   Sometimes   \n",
       "\n",
       "                  MTRANS           NObeyesdad  \n",
       "0  Public_Transportation        Normal_Weight  \n",
       "1  Public_Transportation        Normal_Weight  \n",
       "2  Public_Transportation        Normal_Weight  \n",
       "3                Walking   Overweight_Level_I  \n",
       "4  Public_Transportation  Overweight_Level_II  "
      ]
     },
     "execution_count": 20,
     "metadata": {},
     "output_type": "execute_result"
    },
    {
     "data": {
      "application/javascript": [
       "\n",
       "            setTimeout(function() {\n",
       "                var nbb_cell_id = 20;\n",
       "                var nbb_unformatted_code = \"# Load data  and print first 5 sample\\ndf = pd.read_csv(path_data)\\ndf.head()\";\n",
       "                var nbb_formatted_code = \"# Load data  and print first 5 sample\\ndf = pd.read_csv(path_data)\\ndf.head()\";\n",
       "                var nbb_cells = Jupyter.notebook.get_cells();\n",
       "                for (var i = 0; i < nbb_cells.length; ++i) {\n",
       "                    if (nbb_cells[i].input_prompt_number == nbb_cell_id) {\n",
       "                        if (nbb_cells[i].get_text() == nbb_unformatted_code) {\n",
       "                             nbb_cells[i].set_text(nbb_formatted_code);\n",
       "                        }\n",
       "                        break;\n",
       "                    }\n",
       "                }\n",
       "            }, 500);\n",
       "            "
      ],
      "text/plain": [
       "<IPython.core.display.Javascript object>"
      ]
     },
     "metadata": {},
     "output_type": "display_data"
    }
   ],
   "source": [
    "# Load data  and print first 5 sample\n",
    "df = pd.read_csv(path_data)\n",
    "df.head()"
   ]
  },
  {
   "cell_type": "markdown",
   "id": "d977b1be",
   "metadata": {},
   "source": [
    "* **`convert name of column in to lower case`**"
   ]
  },
  {
   "cell_type": "code",
   "execution_count": 21,
   "id": "bc0534f6",
   "metadata": {},
   "outputs": [
    {
     "data": {
      "application/javascript": [
       "\n",
       "            setTimeout(function() {\n",
       "                var nbb_cell_id = 21;\n",
       "                var nbb_unformatted_code = \"# Each column name converting them to lowercase\\ndf.columns = df.columns.str.lower()\";\n",
       "                var nbb_formatted_code = \"# Each column name converting them to lowercase\\ndf.columns = df.columns.str.lower()\";\n",
       "                var nbb_cells = Jupyter.notebook.get_cells();\n",
       "                for (var i = 0; i < nbb_cells.length; ++i) {\n",
       "                    if (nbb_cells[i].input_prompt_number == nbb_cell_id) {\n",
       "                        if (nbb_cells[i].get_text() == nbb_unformatted_code) {\n",
       "                             nbb_cells[i].set_text(nbb_formatted_code);\n",
       "                        }\n",
       "                        break;\n",
       "                    }\n",
       "                }\n",
       "            }, 500);\n",
       "            "
      ],
      "text/plain": [
       "<IPython.core.display.Javascript object>"
      ]
     },
     "metadata": {},
     "output_type": "display_data"
    }
   ],
   "source": [
    "# Each column name converting them to lowercase\n",
    "df.columns = df.columns.str.lower()\n"
   ]
  },
  {
   "cell_type": "markdown",
   "id": "bc944ba2",
   "metadata": {},
   "source": [
    "* **`Round to one decimal place all Numeircal columns `**"
   ]
  },
  {
   "cell_type": "code",
   "execution_count": 22,
   "id": "450b48ba",
   "metadata": {},
   "outputs": [
    {
     "data": {
      "application/javascript": [
       "\n",
       "            setTimeout(function() {\n",
       "                var nbb_cell_id = 22;\n",
       "                var nbb_unformatted_code = \"## Round to two decimal place all Numeircal columns\\ndf[df.select_dtypes(exclude=\\\"object\\\").columns] = df.select_dtypes(exclude=\\\"object\\\").apply(lambda x: round(x, 2))\";\n",
       "                var nbb_formatted_code = \"## Round to two decimal place all Numeircal columns\\ndf[df.select_dtypes(exclude=\\\"object\\\").columns] = df.select_dtypes(\\n    exclude=\\\"object\\\"\\n).apply(lambda x: round(x, 2))\";\n",
       "                var nbb_cells = Jupyter.notebook.get_cells();\n",
       "                for (var i = 0; i < nbb_cells.length; ++i) {\n",
       "                    if (nbb_cells[i].input_prompt_number == nbb_cell_id) {\n",
       "                        if (nbb_cells[i].get_text() == nbb_unformatted_code) {\n",
       "                             nbb_cells[i].set_text(nbb_formatted_code);\n",
       "                        }\n",
       "                        break;\n",
       "                    }\n",
       "                }\n",
       "            }, 500);\n",
       "            "
      ],
      "text/plain": [
       "<IPython.core.display.Javascript object>"
      ]
     },
     "metadata": {},
     "output_type": "display_data"
    }
   ],
   "source": [
    "## Round to two decimal place all Numeircal columns\n",
    "df[df.select_dtypes(exclude=\"object\").columns] = df.select_dtypes(\n",
    "    exclude=\"object\"\n",
    ").apply(lambda x: round(x, 2))"
   ]
  },
  {
   "cell_type": "markdown",
   "id": "f9ebf275",
   "metadata": {},
   "source": [
    "# `Drop duplicates rows`<a class='d' id='du'>"
   ]
  },
  {
   "cell_type": "code",
   "execution_count": 23,
   "id": "6eb4744c",
   "metadata": {},
   "outputs": [
    {
     "data": {
      "text/plain": [
       "(2087, 17)"
      ]
     },
     "execution_count": 23,
     "metadata": {},
     "output_type": "execute_result"
    },
    {
     "data": {
      "application/javascript": [
       "\n",
       "            setTimeout(function() {\n",
       "                var nbb_cell_id = 23;\n",
       "                var nbb_unformatted_code = \"#### Drop duplicates rows\\ndf.drop_duplicates(inplace=True)\\n\\n### check shape\\ndf.shape\";\n",
       "                var nbb_formatted_code = \"#### Drop duplicates rows\\ndf.drop_duplicates(inplace=True)\\n\\n### check shape\\ndf.shape\";\n",
       "                var nbb_cells = Jupyter.notebook.get_cells();\n",
       "                for (var i = 0; i < nbb_cells.length; ++i) {\n",
       "                    if (nbb_cells[i].input_prompt_number == nbb_cell_id) {\n",
       "                        if (nbb_cells[i].get_text() == nbb_unformatted_code) {\n",
       "                             nbb_cells[i].set_text(nbb_formatted_code);\n",
       "                        }\n",
       "                        break;\n",
       "                    }\n",
       "                }\n",
       "            }, 500);\n",
       "            "
      ],
      "text/plain": [
       "<IPython.core.display.Javascript object>"
      ]
     },
     "metadata": {},
     "output_type": "display_data"
    }
   ],
   "source": [
    "#### Drop duplicates rows\n",
    "df.drop_duplicates(inplace=True)\n",
    "\n",
    "### check shape\n",
    "df.shape"
   ]
  },
  {
   "cell_type": "markdown",
   "id": "317db33d",
   "metadata": {},
   "source": [
    "# `Create new feature (BMI)  `"
   ]
  },
  {
   "cell_type": "code",
   "execution_count": 24,
   "id": "42a7c1f8",
   "metadata": {},
   "outputs": [
    {
     "data": {
      "text/html": [
       "<div>\n",
       "<style scoped>\n",
       "    .dataframe tbody tr th:only-of-type {\n",
       "        vertical-align: middle;\n",
       "    }\n",
       "\n",
       "    .dataframe tbody tr th {\n",
       "        vertical-align: top;\n",
       "    }\n",
       "\n",
       "    .dataframe thead th {\n",
       "        text-align: right;\n",
       "    }\n",
       "</style>\n",
       "<table border=\"1\" class=\"dataframe\">\n",
       "  <thead>\n",
       "    <tr style=\"text-align: right;\">\n",
       "      <th></th>\n",
       "      <th>gender</th>\n",
       "      <th>age</th>\n",
       "      <th>height</th>\n",
       "      <th>weight</th>\n",
       "      <th>family_history_with_overweight</th>\n",
       "      <th>favc</th>\n",
       "      <th>fcvc</th>\n",
       "      <th>ncp</th>\n",
       "      <th>caec</th>\n",
       "      <th>smoke</th>\n",
       "      <th>ch2o</th>\n",
       "      <th>scc</th>\n",
       "      <th>faf</th>\n",
       "      <th>tue</th>\n",
       "      <th>calc</th>\n",
       "      <th>mtrans</th>\n",
       "      <th>nobeyesdad</th>\n",
       "      <th>bmi</th>\n",
       "    </tr>\n",
       "  </thead>\n",
       "  <tbody>\n",
       "    <tr>\n",
       "      <th>0</th>\n",
       "      <td>Female</td>\n",
       "      <td>21.0</td>\n",
       "      <td>1.62</td>\n",
       "      <td>64.0</td>\n",
       "      <td>yes</td>\n",
       "      <td>no</td>\n",
       "      <td>2.0</td>\n",
       "      <td>3.0</td>\n",
       "      <td>Sometimes</td>\n",
       "      <td>no</td>\n",
       "      <td>2.0</td>\n",
       "      <td>no</td>\n",
       "      <td>0.0</td>\n",
       "      <td>1.0</td>\n",
       "      <td>no</td>\n",
       "      <td>Public_Transportation</td>\n",
       "      <td>Normal_Weight</td>\n",
       "      <td>24.4</td>\n",
       "    </tr>\n",
       "    <tr>\n",
       "      <th>1</th>\n",
       "      <td>Female</td>\n",
       "      <td>21.0</td>\n",
       "      <td>1.52</td>\n",
       "      <td>56.0</td>\n",
       "      <td>yes</td>\n",
       "      <td>no</td>\n",
       "      <td>3.0</td>\n",
       "      <td>3.0</td>\n",
       "      <td>Sometimes</td>\n",
       "      <td>yes</td>\n",
       "      <td>3.0</td>\n",
       "      <td>yes</td>\n",
       "      <td>3.0</td>\n",
       "      <td>0.0</td>\n",
       "      <td>Sometimes</td>\n",
       "      <td>Public_Transportation</td>\n",
       "      <td>Normal_Weight</td>\n",
       "      <td>24.2</td>\n",
       "    </tr>\n",
       "    <tr>\n",
       "      <th>2</th>\n",
       "      <td>Male</td>\n",
       "      <td>23.0</td>\n",
       "      <td>1.80</td>\n",
       "      <td>77.0</td>\n",
       "      <td>yes</td>\n",
       "      <td>no</td>\n",
       "      <td>2.0</td>\n",
       "      <td>3.0</td>\n",
       "      <td>Sometimes</td>\n",
       "      <td>no</td>\n",
       "      <td>2.0</td>\n",
       "      <td>no</td>\n",
       "      <td>2.0</td>\n",
       "      <td>1.0</td>\n",
       "      <td>Frequently</td>\n",
       "      <td>Public_Transportation</td>\n",
       "      <td>Normal_Weight</td>\n",
       "      <td>23.8</td>\n",
       "    </tr>\n",
       "    <tr>\n",
       "      <th>3</th>\n",
       "      <td>Male</td>\n",
       "      <td>27.0</td>\n",
       "      <td>1.80</td>\n",
       "      <td>87.0</td>\n",
       "      <td>no</td>\n",
       "      <td>no</td>\n",
       "      <td>3.0</td>\n",
       "      <td>3.0</td>\n",
       "      <td>Sometimes</td>\n",
       "      <td>no</td>\n",
       "      <td>2.0</td>\n",
       "      <td>no</td>\n",
       "      <td>2.0</td>\n",
       "      <td>0.0</td>\n",
       "      <td>Frequently</td>\n",
       "      <td>Walking</td>\n",
       "      <td>Overweight_Level_I</td>\n",
       "      <td>26.9</td>\n",
       "    </tr>\n",
       "    <tr>\n",
       "      <th>4</th>\n",
       "      <td>Male</td>\n",
       "      <td>22.0</td>\n",
       "      <td>1.78</td>\n",
       "      <td>89.8</td>\n",
       "      <td>no</td>\n",
       "      <td>no</td>\n",
       "      <td>2.0</td>\n",
       "      <td>1.0</td>\n",
       "      <td>Sometimes</td>\n",
       "      <td>no</td>\n",
       "      <td>2.0</td>\n",
       "      <td>no</td>\n",
       "      <td>0.0</td>\n",
       "      <td>0.0</td>\n",
       "      <td>Sometimes</td>\n",
       "      <td>Public_Transportation</td>\n",
       "      <td>Overweight_Level_II</td>\n",
       "      <td>28.3</td>\n",
       "    </tr>\n",
       "  </tbody>\n",
       "</table>\n",
       "</div>"
      ],
      "text/plain": [
       "   gender   age  height  weight family_history_with_overweight favc  fcvc   \n",
       "0  Female  21.0    1.62    64.0                            yes   no   2.0  \\\n",
       "1  Female  21.0    1.52    56.0                            yes   no   3.0   \n",
       "2    Male  23.0    1.80    77.0                            yes   no   2.0   \n",
       "3    Male  27.0    1.80    87.0                             no   no   3.0   \n",
       "4    Male  22.0    1.78    89.8                             no   no   2.0   \n",
       "\n",
       "   ncp       caec smoke  ch2o  scc  faf  tue        calc   \n",
       "0  3.0  Sometimes    no   2.0   no  0.0  1.0          no  \\\n",
       "1  3.0  Sometimes   yes   3.0  yes  3.0  0.0   Sometimes   \n",
       "2  3.0  Sometimes    no   2.0   no  2.0  1.0  Frequently   \n",
       "3  3.0  Sometimes    no   2.0   no  2.0  0.0  Frequently   \n",
       "4  1.0  Sometimes    no   2.0   no  0.0  0.0   Sometimes   \n",
       "\n",
       "                  mtrans           nobeyesdad   bmi  \n",
       "0  Public_Transportation        Normal_Weight  24.4  \n",
       "1  Public_Transportation        Normal_Weight  24.2  \n",
       "2  Public_Transportation        Normal_Weight  23.8  \n",
       "3                Walking   Overweight_Level_I  26.9  \n",
       "4  Public_Transportation  Overweight_Level_II  28.3  "
      ]
     },
     "execution_count": 24,
     "metadata": {},
     "output_type": "execute_result"
    },
    {
     "data": {
      "application/javascript": [
       "\n",
       "            setTimeout(function() {\n",
       "                var nbb_cell_id = 24;\n",
       "                var nbb_unformatted_code = \"df[\\\"bmi\\\"] = round(df.weight / np.square(df.height), 1)\\ndf.head()\";\n",
       "                var nbb_formatted_code = \"df[\\\"bmi\\\"] = round(df.weight / np.square(df.height), 1)\\ndf.head()\";\n",
       "                var nbb_cells = Jupyter.notebook.get_cells();\n",
       "                for (var i = 0; i < nbb_cells.length; ++i) {\n",
       "                    if (nbb_cells[i].input_prompt_number == nbb_cell_id) {\n",
       "                        if (nbb_cells[i].get_text() == nbb_unformatted_code) {\n",
       "                             nbb_cells[i].set_text(nbb_formatted_code);\n",
       "                        }\n",
       "                        break;\n",
       "                    }\n",
       "                }\n",
       "            }, 500);\n",
       "            "
      ],
      "text/plain": [
       "<IPython.core.display.Javascript object>"
      ]
     },
     "metadata": {},
     "output_type": "display_data"
    }
   ],
   "source": [
    "df[\"bmi\"] = round(df.weight / np.square(df.height), 1)\n",
    "df.head()"
   ]
  },
  {
   "cell_type": "markdown",
   "id": "69e8183e",
   "metadata": {},
   "source": [
    "# `Handling outlier`<a class='h' id='ot'>"
   ]
  },
  {
   "cell_type": "code",
   "execution_count": 27,
   "id": "cf51f6fd",
   "metadata": {},
   "outputs": [
    {
     "name": "stdout",
     "output_type": "stream",
     "text": [
      "Number of outlier in age =  168\n",
      "***********************************\n",
      "Number of outlier in weight =  1\n",
      "***********************************\n",
      "Number of outlier in ncp =  578\n",
      "***********************************\n",
      "Number of index outlier is ----->>  699\n",
      "Shape of data without outlier ----->>  1388\n"
     ]
    },
    {
     "data": {
      "application/javascript": [
       "\n",
       "            setTimeout(function() {\n",
       "                var nbb_cell_id = 27;\n",
       "                var nbb_unformatted_code = \"# Calculate number of outlier for each columns and git index of outlier\\noutlier_index = []\\nfor i in df.select_dtypes(exclude=\\\"object\\\").columns:\\n    if len(detect_outliers(df, 0, [i])) == 0:\\n        continue\\n    else:\\n        outlier_index.extend(detect_outliers(df, 0, [i]))\\n        print(f\\\"Number of outlier in {i} = \\\", len(detect_outliers(df, 0, [i])))\\n        print(\\\"*\\\" * 35)\\nprint(\\\"Number of index outlier is ----->> \\\", len(set(outlier_index)))\\nprint(\\\"Shape of data without outlier ----->> \\\", df.shape[0] - len(set(outlier_index)))\";\n",
       "                var nbb_formatted_code = \"# Calculate number of outlier for each columns and git index of outlier\\noutlier_index = []\\nfor i in df.select_dtypes(exclude=\\\"object\\\").columns:\\n    if len(detect_outliers(df, 0, [i])) == 0:\\n        continue\\n    else:\\n        outlier_index.extend(detect_outliers(df, 0, [i]))\\n        print(f\\\"Number of outlier in {i} = \\\", len(detect_outliers(df, 0, [i])))\\n        print(\\\"*\\\" * 35)\\nprint(\\\"Number of index outlier is ----->> \\\", len(set(outlier_index)))\\nprint(\\\"Shape of data without outlier ----->> \\\", df.shape[0] - len(set(outlier_index)))\";\n",
       "                var nbb_cells = Jupyter.notebook.get_cells();\n",
       "                for (var i = 0; i < nbb_cells.length; ++i) {\n",
       "                    if (nbb_cells[i].input_prompt_number == nbb_cell_id) {\n",
       "                        if (nbb_cells[i].get_text() == nbb_unformatted_code) {\n",
       "                             nbb_cells[i].set_text(nbb_formatted_code);\n",
       "                        }\n",
       "                        break;\n",
       "                    }\n",
       "                }\n",
       "            }, 500);\n",
       "            "
      ],
      "text/plain": [
       "<IPython.core.display.Javascript object>"
      ]
     },
     "metadata": {},
     "output_type": "display_data"
    }
   ],
   "source": [
    "# Calculate number of outlier for each columns and git index of outlier\n",
    "outlier_index = []\n",
    "for i in df.select_dtypes(exclude=\"object\").columns:\n",
    "    if len(detect_outliers(df, 0, [i])) == 0:\n",
    "        continue\n",
    "    else:\n",
    "        outlier_index.extend(detect_outliers(df, 0, [i]))\n",
    "        print(f\"Number of outlier in {i} = \", len(detect_outliers(df, 0, [i])))\n",
    "        print(\"*\" * 35)\n",
    "print(\"Number of index outlier is ----->> \", len(set(outlier_index)))\n",
    "print(\"Shape of data without outlier ----->> \", df.shape[0] - len(set(outlier_index)))"
   ]
  },
  {
   "cell_type": "markdown",
   "id": "7f835c93",
   "metadata": {},
   "source": [
    "# `- Split the dataset into two parts :`\n",
    "* **`1- Nature Data ( data without outlier )`**</br>\n",
    "* **`2- Extreme Value Data( Include only outliers )`**</br>\n",
    "# `Note_1`\n",
    "**` Not recommended to drop the outlier when the values of the outlier are real values Because: `**</br>\n",
    "* `1- Outliers can contain valuable information about the data or the phenomenon you are studying. They might represent rare events or extreme conditions that are crucial for your analysis.`\n",
    "* `2- Removing outliers can make your analysis more sensitive to noise and fluctuations in the data. Keeping outliers can make your analysis more robust, especially if you're dealing with real-world data that may have variations and anomalies.`\n",
    "* `3-  Removing outliers results in a loss of data. If you have limited data, losing even a few data points can reduce the representativeness of your dataset.`\n",
    "# `Note_2`\n",
    "* **`1- Create analysis on both datasets`**</br>\n",
    "* **`2- Build multiple machine learning classification models on both datasets`**"
   ]
  },
  {
   "cell_type": "code",
   "execution_count": 16,
   "id": "eb5b196b",
   "metadata": {},
   "outputs": [
    {
     "name": "stdout",
     "output_type": "stream",
     "text": [
      "df_nature shape is-----> (1388, 18)\n",
      "df_extreme shape is-----> (699, 18)\n"
     ]
    },
    {
     "data": {
      "application/javascript": [
       "\n",
       "            setTimeout(function() {\n",
       "                var nbb_cell_id = 16;\n",
       "                var nbb_unformatted_code = \"## Nature Data\\ndf_nature = df.iloc[~df.index.isin(outlier_index)]\\n\\n## Extreme Value Data\\ndf_extreme = df.iloc[df.index.isin(outlier_index)]\\n\\n## Print shape on both datasets\\nprint(\\\"df_nature shape is----->\\\", df_nature.shape)\\nprint(\\\"df_extreme shape is----->\\\", df_extreme.shape)\";\n",
       "                var nbb_formatted_code = \"## Nature Data\\ndf_nature = df.iloc[~df.index.isin(outlier_index)]\\n\\n## Extreme Value Data\\ndf_extreme = df.iloc[df.index.isin(outlier_index)]\\n\\n## Print shape on both datasets\\nprint(\\\"df_nature shape is----->\\\", df_nature.shape)\\nprint(\\\"df_extreme shape is----->\\\", df_extreme.shape)\";\n",
       "                var nbb_cells = Jupyter.notebook.get_cells();\n",
       "                for (var i = 0; i < nbb_cells.length; ++i) {\n",
       "                    if (nbb_cells[i].input_prompt_number == nbb_cell_id) {\n",
       "                        if (nbb_cells[i].get_text() == nbb_unformatted_code) {\n",
       "                             nbb_cells[i].set_text(nbb_formatted_code);\n",
       "                        }\n",
       "                        break;\n",
       "                    }\n",
       "                }\n",
       "            }, 500);\n",
       "            "
      ],
      "text/plain": [
       "<IPython.core.display.Javascript object>"
      ]
     },
     "metadata": {},
     "output_type": "display_data"
    }
   ],
   "source": [
    "## Nature Data\n",
    "df_nature = df.iloc[~df.index.isin(outlier_index)]\n",
    "\n",
    "## Extreme Value Data\n",
    "df_extreme = df.iloc[df.index.isin(outlier_index)]\n",
    "\n",
    "## Print shape on both datasets\n",
    "print(\"df_nature shape is----->\", df_nature.shape)\n",
    "print(\"df_extreme shape is----->\", df_extreme.shape)"
   ]
  },
  {
   "cell_type": "code",
   "execution_count": 17,
   "id": "b0697c9c",
   "metadata": {},
   "outputs": [
    {
     "data": {
      "application/javascript": [
       "\n",
       "            setTimeout(function() {\n",
       "                var nbb_cell_id = 17;\n",
       "                var nbb_unformatted_code = \"## save a new datasets as pickle file\\n\\n### Nature Data\\npath_df_nature = r\\\"D:\\\\Software_Courses\\\\Coding\\\\Data Science Project\\\\Supervised\\\\Classification\\\\Obesity based on eating habits and physical conditions\\\\data\\\\processed/Nature data.pkl\\\"\\ndf_nature.to_pickle(path_df_nature)\\n\\n## Extreme Data\\npath_df_extreme = r\\\"D:\\\\Software_Courses\\\\Coding\\\\Data Science Project\\\\Supervised\\\\Classification\\\\Obesity based on eating habits and physical conditions\\\\data\\\\processed/Extreme data.pkl\\\"\\ndf_extreme.to_pickle(path_df_extreme)\";\n",
       "                var nbb_formatted_code = \"## save a new datasets as pickle file\\n\\n### Nature Data\\npath_df_nature = r\\\"D:\\\\Software_Courses\\\\Coding\\\\Data Science Project\\\\Supervised\\\\Classification\\\\Obesity based on eating habits and physical conditions\\\\data\\\\processed/Nature data.pkl\\\"\\ndf_nature.to_pickle(path_df_nature)\\n\\n## Extreme Data\\npath_df_extreme = r\\\"D:\\\\Software_Courses\\\\Coding\\\\Data Science Project\\\\Supervised\\\\Classification\\\\Obesity based on eating habits and physical conditions\\\\data\\\\processed/Extreme data.pkl\\\"\\ndf_extreme.to_pickle(path_df_extreme)\";\n",
       "                var nbb_cells = Jupyter.notebook.get_cells();\n",
       "                for (var i = 0; i < nbb_cells.length; ++i) {\n",
       "                    if (nbb_cells[i].input_prompt_number == nbb_cell_id) {\n",
       "                        if (nbb_cells[i].get_text() == nbb_unformatted_code) {\n",
       "                             nbb_cells[i].set_text(nbb_formatted_code);\n",
       "                        }\n",
       "                        break;\n",
       "                    }\n",
       "                }\n",
       "            }, 500);\n",
       "            "
      ],
      "text/plain": [
       "<IPython.core.display.Javascript object>"
      ]
     },
     "metadata": {},
     "output_type": "display_data"
    }
   ],
   "source": [
    "## save a new datasets as pickle file\n",
    "\n",
    "### Nature Data\n",
    "path_df_nature = r\"D:\\Software_Courses\\Coding\\Data Science Project\\Supervised\\Classification\\Obesity based on eating habits and physical conditions\\data\\processed/Nature data.pkl\"\n",
    "df_nature.to_pickle(path_df_nature)\n",
    "\n",
    "## Extreme Data\n",
    "path_df_extreme = r\"D:\\Software_Courses\\Coding\\Data Science Project\\Supervised\\Classification\\Obesity based on eating habits and physical conditions\\data\\processed/Extreme data.pkl\"\n",
    "df_extreme.to_pickle(path_df_extreme)\n"
   ]
  },
  {
   "cell_type": "code",
   "execution_count": null,
   "id": "6d28f481",
   "metadata": {},
   "outputs": [],
   "source": []
  }
 ],
 "metadata": {
  "kernelspec": {
   "display_name": "Python 3 (ipykernel)",
   "language": "python",
   "name": "python3"
  },
  "language_info": {
   "codemirror_mode": {
    "name": "ipython",
    "version": 3
   },
   "file_extension": ".py",
   "mimetype": "text/x-python",
   "name": "python",
   "nbconvert_exporter": "python",
   "pygments_lexer": "ipython3",
   "version": "3.11.3"
  }
 },
 "nbformat": 4,
 "nbformat_minor": 5
}
