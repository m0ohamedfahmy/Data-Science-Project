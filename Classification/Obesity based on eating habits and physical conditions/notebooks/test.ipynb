{
 "cells": [
  {
   "cell_type": "code",
   "execution_count": 1,
   "metadata": {},
   "outputs": [],
   "source": [
    "from utils import process_now"
   ]
  },
  {
   "cell_type": "code",
   "execution_count": 6,
   "metadata": {},
   "outputs": [],
   "source": [
    "import numpy as np\n",
    "\n",
    "data=['yes','yes',1.92\t,3.0\t,'Sometimes',\t2.01,\t'no',\t0.18,\t0.51,'Sometimes', 'Automobile',1.62,64.0]"
   ]
  },
  {
   "cell_type": "code",
   "execution_count": 7,
   "metadata": {},
   "outputs": [
    {
     "data": {
      "text/plain": [
       "array([[-0.33276166, -0.26793478, -0.05368913, -0.79041125, -0.2400954 ,\n",
       "        -0.35251809,  2.        ,  1.        ,  0.        ,  1.        ,\n",
       "         1.        ,  0.        ]])"
      ]
     },
     "execution_count": 7,
     "metadata": {},
     "output_type": "execute_result"
    }
   ],
   "source": [
    "process_now(x_new=data)"
   ]
  },
  {
   "cell_type": "code",
   "execution_count": 4,
   "metadata": {},
   "outputs": [
    {
     "name": "stderr",
     "output_type": "stream",
     "text": [
      "2024-04-11 17:37:13.469 \n",
      "  \u001b[33m\u001b[1mWarning:\u001b[0m to view this Streamlit app on a browser, run it with the following\n",
      "  command:\n",
      "\n",
      "    streamlit run C:\\myanacoda\\envs\\fahmy\\Lib\\site-packages\\ipykernel_launcher.py [ARGUMENTS]\n"
     ]
    }
   ],
   "source": [
    "## Import Libraries\n",
    "import streamlit as st\n",
    "import joblib\n",
    "import numpy as np\n",
    "from utils import process_now\n",
    "\n",
    "# Load the model\n",
    "model =joblib.load(r'..\\models/xgboost.pkl')\n",
    "\n",
    "\n",
    "def Obesity_classification():\n",
    "\n",
    "    ## Title\n",
    "    st.title('Obesity Classification Prediction ....')\n",
    "    st.markdown('<hr>', unsafe_allow_html=True)\n",
    "\n",
    "    ## Input fields\n",
    "\n",
    "    family_history_with_overweight = st.selectbox('Family history with overweight', options=['yes', 'no'])\n",
    "    favc = st.selectbox('Frequent consumption of high caloric food', options=['yes', 'no'])\n",
    "    fcvc = st.number_input('Usually eat vegetables in your meals', step=0.01)\n",
    "    ncp = st.number_input('Number of main meals', step=0.01)\n",
    "    \n",
    "    ch2o = st.number_input('Consumption of water daily', step=0.01)\n",
    "    caec = st.selectbox('Consumption of food between meals', options=['Sometimes', 'Frequently','Always','no'])\n",
    "    scc = st.selectbox('Calories consumption monitoring', options=['yes','no'])\n",
    "    calc = st.selectbox('Consumption of alcohol', options=['Sometimes', 'Frequently','no'])\n",
    "    faf = st.number_input('Physical activity frequency', step=0.01)\n",
    "    tue= st.number_input('Time using technology devices', step=0.01)\n",
    "    mtrans=st.selectbox('Consumption of alcohol', options=['Public_Transportation', 'Automobile','Walking','Motorbike','Bike'])\n",
    "    height=st.number_input('Height', step=0.01)\n",
    "    weight=st.number_input('Weight', step=0.01)\n",
    "    \n",
    "    st.markdown('<hr>', unsafe_allow_html=True)\n",
    "\n",
    "\n",
    "    if st.button('Predict Obesity ...'):\n",
    "\n",
    "        ## Concatenate the users data\n",
    "        new_data = np.array([family_history_with_overweight, favc, fcvc, ncp, caec, ch2o, scc, faf, tue, calc, mtrans, height, weight])\n",
    "        \n",
    "        ## Call the function from utils.py to apply the pipeline\n",
    "        X_processed = process_now(x_new=new_data)\n",
    "\n",
    "        ## Predict using Model\n",
    "\n",
    "        y_pred = model.predict(X_processed)\n",
    "        \n",
    "        ## Mapping of target labels\n",
    "        map_target = {\n",
    "            0: 'Insufficient Weight',\n",
    "            1: 'Normal_Weight',\n",
    "            2: 'Overweight_Level_I',\n",
    "            3: 'Overweight_Level_II',\n",
    "            4: 'Obesity_Type_I',\n",
    "            5: 'Obesity_Type_II',\n",
    "            6: 'Obesity_Type_III'\n",
    "        }\n",
    "        y_pred_mapped = [map_target[val] for val in y_pred]\n",
    "\n",
    "        ## Display Results\n",
    "        st.success(f'Obesity Prediction is ... {y_pred_mapped}')\n",
    "\n",
    "\n",
    "\n",
    "if __name__ == '__main__':\n",
    "    ## Call the function\n",
    "    Obesity_classification()\n",
    "\n"
   ]
  },
  {
   "cell_type": "code",
   "execution_count": 5,
   "metadata": {},
   "outputs": [
    {
     "ename": "SyntaxError",
     "evalue": "invalid syntax (91832426.py, line 1)",
     "output_type": "error",
     "traceback": [
      "\u001b[1;36m  Cell \u001b[1;32mIn[5], line 1\u001b[1;36m\u001b[0m\n\u001b[1;33m    streamlit run C:\\myanacoda\\envs\\fahmy\\Lib\\site-packages\\ipykernel_launcher.py [ARGUMENTS]\u001b[0m\n\u001b[1;37m              ^\u001b[0m\n\u001b[1;31mSyntaxError\u001b[0m\u001b[1;31m:\u001b[0m invalid syntax\n"
     ]
    }
   ],
   "source": [
    "streamlit run C:\\myanacoda\\envs\\fahmy\\Lib\\site-packages\\ipykernel_launcher.py [ARGUMENTS]\n"
   ]
  }
 ],
 "metadata": {
  "kernelspec": {
   "display_name": "Python 3 (ipykernel)",
   "language": "python",
   "name": "python3"
  },
  "language_info": {
   "codemirror_mode": {
    "name": "ipython",
    "version": 3
   },
   "file_extension": ".py",
   "mimetype": "text/x-python",
   "name": "python",
   "nbconvert_exporter": "python",
   "pygments_lexer": "ipython3",
   "version": "3.11.3"
  }
 },
 "nbformat": 4,
 "nbformat_minor": 2
}
